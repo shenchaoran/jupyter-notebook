{
 "cells": [
  {
   "cell_type": "code",
   "execution_count": 3,
   "metadata": {},
   "outputs": [
    {
     "name": "stdout",
     "output_type": "stream",
     "text": [
      "7200 3600\n"
     ]
    }
   ],
   "source": [
    "from libtiff import TIFF\n",
    "from scipy import misc\n",
    "from PIL import Image\n",
    "\n",
    "fname = '/home/scr/Downloads/MOD17A2_GPP.A2000001.tif'\n",
    "\n",
    "im = Image.open(fname)\n",
    "w, h = im.size\n",
    "print(w, h)"
   ]
  },
  {
   "cell_type": "code",
   "execution_count": null,
   "metadata": {},
   "outputs": [],
   "source": []
  },
  {
   "cell_type": "code",
   "execution_count": null,
   "metadata": {},
   "outputs": [],
   "source": []
  }
 ],
 "metadata": {
  "kernelspec": {
   "display_name": "CMIP_py3",
   "language": "python",
   "name": "cmip_py3"
  },
  "language_info": {
   "codemirror_mode": {
    "name": "ipython",
    "version": 3
   },
   "file_extension": ".py",
   "mimetype": "text/x-python",
   "name": "python",
   "nbconvert_exporter": "python",
   "pygments_lexer": "ipython3",
   "version": "3.6.5"
  }
 },
 "nbformat": 4,
 "nbformat_minor": 2
}
